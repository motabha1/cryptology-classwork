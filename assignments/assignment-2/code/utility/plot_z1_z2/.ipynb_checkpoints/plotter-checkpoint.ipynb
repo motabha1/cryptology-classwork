{
 "cells": [
  {
   "cell_type": "code",
   "execution_count": null,
   "id": "9bad7965",
   "metadata": {},
   "outputs": [],
   "source": [
    "from matplotlib import pyplot as plt\n",
    "import pandas as pd"
   ]
  },
  {
   "cell_type": "code",
   "execution_count": null,
   "id": "7ac8d8d6",
   "metadata": {},
   "outputs": [],
   "source": [
    "df = pd.read_csv(\"../../RC4/z1_z2.txt\", sep = \",\")"
   ]
  },
  {
   "cell_type": "code",
   "execution_count": null,
   "id": "d289bafc",
   "metadata": {},
   "outputs": [],
   "source": [
    "df.head()"
   ]
  },
  {
   "cell_type": "code",
   "execution_count": null,
   "id": "f106aff7",
   "metadata": {},
   "outputs": [],
   "source": [
    "# We are just trying to plot the distribution of z1 and z2\n",
    "# This exercise just tells how biased the fir\n",
    "\n",
    "s, z1, z2 = df['s'].tolist(), df['z1'].tolist(), df['z2'].tolist()\n",
    "plt.plot(s, z1)\n",
    "plt.xlabel('number')\n",
    "plt.ylabel('probability')\n",
    "plt.savefig('z1.png')"
   ]
  },
  {
   "cell_type": "code",
   "execution_count": null,
   "id": "9b7cf541",
   "metadata": {},
   "outputs": [],
   "source": [
    "plt.plot(s, z2)\n",
    "plt.xlabel('number')\n",
    "plt.ylabel('probability')\n",
    "plt.savefig('z2.png')"
   ]
  },
  {
   "cell_type": "code",
   "execution_count": null,
   "id": "44bded04",
   "metadata": {},
   "outputs": [],
   "source": []
  }
 ],
 "metadata": {
  "kernelspec": {
   "display_name": "Python 3",
   "language": "python",
   "name": "python3"
  },
  "language_info": {
   "codemirror_mode": {
    "name": "ipython",
    "version": 3
   },
   "file_extension": ".py",
   "mimetype": "text/x-python",
   "name": "python",
   "nbconvert_exporter": "python",
   "pygments_lexer": "ipython3",
   "version": "3.8.8"
  }
 },
 "nbformat": 4,
 "nbformat_minor": 5
}
