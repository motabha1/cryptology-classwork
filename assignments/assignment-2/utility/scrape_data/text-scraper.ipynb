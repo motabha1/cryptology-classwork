{
 "cells": [
  {
   "cell_type": "code",
   "execution_count": 10,
   "id": "0c933f27",
   "metadata": {},
   "outputs": [],
   "source": [
    "import requests\n",
    "from bs4 import BeautifulSoup"
   ]
  },
  {
   "cell_type": "code",
   "execution_count": 11,
   "id": "db779636",
   "metadata": {},
   "outputs": [],
   "source": [
    "def get_txt(site_url):\n",
    "    r = requests.get(site_url, allow_redirects=False)\n",
    "    soup = BeautifulSoup(r.content, 'html.parser')\n",
    "    b, h ,t = soup.body, soup.head, soup.title\n",
    "    b = b.text if b != None else []\n",
    "    h = h.text if h != None else []\n",
    "    t = t.text if t != None else []\n",
    "    txt = b + h + t\n",
    "    non_empty_lines = [line for line in txt if line.strip('\\n') != \"\" and line.encode('ascii', 'ignore').decode()]\n",
    "    #items = [txt.text for t in all if txt.text.strip() != '']\n",
    "    return non_empty_lines[:4100]"
   ]
  },
  {
   "cell_type": "code",
   "execution_count": 12,
   "id": "a4fc596f",
   "metadata": {},
   "outputs": [],
   "source": [
    "chars = list()\n",
    "\n",
    "with open('website.txt') as f:\n",
    "    sites = f.readlines()\n",
    "\n",
    "file = open('scraped_data.txt', 'w', encoding = 'ascii')\n",
    "    \n",
    "for site_url in sites:\n",
    "    txt = get_txt(site_url)\n",
    "    for t in txt:\n",
    "        chars.append(t)\n",
    "\n",
    "for c in chars:\n",
    "    file.write(c)\n",
    "\n",
    "file.close()\n"
   ]
  },
  {
   "cell_type": "code",
   "execution_count": null,
   "id": "75ab6eee",
   "metadata": {},
   "outputs": [],
   "source": []
  }
 ],
 "metadata": {
  "kernelspec": {
   "display_name": "Python 3",
   "language": "python",
   "name": "python3"
  },
  "language_info": {
   "codemirror_mode": {
    "name": "ipython",
    "version": 3
   },
   "file_extension": ".py",
   "mimetype": "text/x-python",
   "name": "python",
   "nbconvert_exporter": "python",
   "pygments_lexer": "ipython3",
   "version": "3.8.8"
  }
 },
 "nbformat": 4,
 "nbformat_minor": 5
}
